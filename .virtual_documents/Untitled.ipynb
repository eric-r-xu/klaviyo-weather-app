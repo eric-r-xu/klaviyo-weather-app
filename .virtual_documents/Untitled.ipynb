import pandas as pd
import pickle



# Open the file in read binary mode
with open('city_dict.pkl', 'rb') as file:
    # Use pickle.load to load the data from the file
    city_dict = pickle.load(file)


city_dict


df = pd.read_csv('city_dict.tsv',sep='\t')



df = df.fillna('')
df['name_extended'] = df['name'] +', '+ df['state'] + '; '+ df['country']
df['name_extended_'] = df['name_extended'].str.replace(', ; ','; ').replace(', ///',', ')
df['id'] = df['id'].astype(str)


city_dict = df.set_index('id')['name_extended_'].to_dict()
city_dict


# Save the dictionary into pickle file
with open('city_dict.pkl', 'wb') as handle:
    pickle.dump(city_dict, handle, protocol=pickle.HIGHEST_PROTOCOL)
print('done')
